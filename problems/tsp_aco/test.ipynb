{
 "cells": [
  {
   "cell_type": "code",
   "execution_count": 1,
   "metadata": {
    "ExecuteTime": {
     "end_time": "2024-05-16T12:05:25.241748Z",
     "start_time": "2024-05-16T12:04:54.273499Z"
    }
   },
   "outputs": [],
   "source": [
    "from aco import ACO\n",
    "import numpy as np\n",
    "from scipy.spatial import distance_matrix\n",
    "import logging\n",
    "from sklearn.preprocessing import StandardScaler\n",
    "\n",
    "N_ANTS = 30\n",
    "N_ITERATIONS = [1, 10, 30, 50, 100, 150, 200]\n",
    "\n",
    "\n",
    "\n",
    "def heuristics_reevo(edge_attr):\n",
    "    num_edges = edge_attr.shape[0]\n",
    "    num_attributes = edge_attr.shape[1]\n",
    "\n",
    "    heuristic_values = np.zeros_like(edge_attr)\n",
    "\n",
    "    # Apply feature engineering on edge attributes\n",
    "    transformed_attr = np.log1p(np.abs(edge_attr))  # Taking logarithm of absolute value of attributes\n",
    "    \n",
    "    # Normalize edge attributes\n",
    "    scaler = StandardScaler()\n",
    "    edge_attr_norm = scaler.fit_transform(transformed_attr)\n",
    "\n",
    "    # Calculate correlation coefficients\n",
    "    correlation_matrix = np.corrcoef(edge_attr_norm.T)\n",
    "\n",
    "    # Calculate heuristic value for each edge attribute\n",
    "    for i in range(num_edges):\n",
    "        for j in range(num_attributes):\n",
    "            if edge_attr_norm[i][j] != 0:\n",
    "                heuristic_values[i][j] = np.exp(-8 * edge_attr_norm[i][j] * correlation_matrix[j][j])\n",
    "\n",
    "    return heuristic_values\n",
    "\n",
    "\n",
    "def solve(node_pos):\n",
    "    dist_mat = distance_matrix(node_pos, node_pos)\n",
    "    dist_mat[np.diag_indices_from(dist_mat)] = 1 # set diagonal to a large number\n",
    "    heu = heuristics_reevo(dist_mat) + 1e-9\n",
    "    heu[heu < 1e-9] = 1e-9\n",
    "    aco = ACO(dist_mat, heu, n_ants=N_ANTS)\n",
    "    \n",
    "    results = []\n",
    "    for i in range(len(N_ITERATIONS)):\n",
    "        if i == 0:\n",
    "            obj = aco.run(N_ITERATIONS[i])\n",
    "        else:\n",
    "            obj = aco.run(N_ITERATIONS[i] - N_ITERATIONS[i-1])\n",
    "        # print(\"Iteration: {}, Objective: {}\".format(N_ITERATIONS[i], obj))\n",
    "        results.append(obj.item())\n",
    "    return results"
   ]
  },
  {
   "cell_type": "code",
   "execution_count": 2,
   "metadata": {
    "ExecuteTime": {
     "end_time": "2024-05-16T12:05:25.799460Z",
     "start_time": "2024-05-16T12:05:25.259113Z"
    }
   },
   "outputs": [
    {
     "name": "stdout",
     "output_type": "stream",
     "text": [
      "[*] Running ...\n"
     ]
    },
    {
     "ename": "FileNotFoundError",
     "evalue": "[Errno 2] No such file or directory: './dataset/val20_dataset.npy'",
     "output_type": "error",
     "traceback": [
      "\u001b[0;31m---------------------------------------------------------------------------\u001b[0m",
      "\u001b[0;31mFileNotFoundError\u001b[0m                         Traceback (most recent call last)",
      "Cell \u001b[0;32mIn[2], line 5\u001b[0m\n\u001b[1;32m      3\u001b[0m \u001b[38;5;28;01mfor\u001b[39;00m problem_size \u001b[38;5;129;01min\u001b[39;00m [\u001b[38;5;241m20\u001b[39m]:\n\u001b[1;32m      4\u001b[0m     dataset_path \u001b[38;5;241m=\u001b[39m \u001b[38;5;124mf\u001b[39m\u001b[38;5;124m\"\u001b[39m\u001b[38;5;124m./dataset/val\u001b[39m\u001b[38;5;132;01m{\u001b[39;00mproblem_size\u001b[38;5;132;01m}\u001b[39;00m\u001b[38;5;124m_dataset.npy\u001b[39m\u001b[38;5;124m\"\u001b[39m\n\u001b[0;32m----> 5\u001b[0m     node_positions \u001b[38;5;241m=\u001b[39m \u001b[43mnp\u001b[49m\u001b[38;5;241;43m.\u001b[39;49m\u001b[43mload\u001b[49m\u001b[43m(\u001b[49m\u001b[43mdataset_path\u001b[49m\u001b[43m)\u001b[49m\n\u001b[1;32m      6\u001b[0m     logging\u001b[38;5;241m.\u001b[39minfo(\u001b[38;5;124mf\u001b[39m\u001b[38;5;124m\"\u001b[39m\u001b[38;5;124m[*] Evaluating \u001b[39m\u001b[38;5;132;01m{\u001b[39;00mdataset_path\u001b[38;5;132;01m}\u001b[39;00m\u001b[38;5;124m\"\u001b[39m)\n\u001b[1;32m      7\u001b[0m     n_instances \u001b[38;5;241m=\u001b[39m node_positions\u001b[38;5;241m.\u001b[39mshape[\u001b[38;5;241m0\u001b[39m]\n",
      "File \u001b[0;32m~/anaconda3/envs/py39/lib/python3.9/site-packages/numpy/lib/npyio.py:427\u001b[0m, in \u001b[0;36mload\u001b[0;34m(file, mmap_mode, allow_pickle, fix_imports, encoding, max_header_size)\u001b[0m\n\u001b[1;32m    425\u001b[0m     own_fid \u001b[38;5;241m=\u001b[39m \u001b[38;5;28;01mFalse\u001b[39;00m\n\u001b[1;32m    426\u001b[0m \u001b[38;5;28;01melse\u001b[39;00m:\n\u001b[0;32m--> 427\u001b[0m     fid \u001b[38;5;241m=\u001b[39m stack\u001b[38;5;241m.\u001b[39menter_context(\u001b[38;5;28;43mopen\u001b[39;49m\u001b[43m(\u001b[49m\u001b[43mos_fspath\u001b[49m\u001b[43m(\u001b[49m\u001b[43mfile\u001b[49m\u001b[43m)\u001b[49m\u001b[43m,\u001b[49m\u001b[43m \u001b[49m\u001b[38;5;124;43m\"\u001b[39;49m\u001b[38;5;124;43mrb\u001b[39;49m\u001b[38;5;124;43m\"\u001b[39;49m\u001b[43m)\u001b[49m)\n\u001b[1;32m    428\u001b[0m     own_fid \u001b[38;5;241m=\u001b[39m \u001b[38;5;28;01mTrue\u001b[39;00m\n\u001b[1;32m    430\u001b[0m \u001b[38;5;66;03m# Code to distinguish from NumPy binary files and pickles.\u001b[39;00m\n",
      "\u001b[0;31mFileNotFoundError\u001b[0m: [Errno 2] No such file or directory: './dataset/val20_dataset.npy'"
     ]
    }
   ],
   "source": [
    "print(\"[*] Running ...\")\n",
    "\n",
    "for problem_size in [20]:\n",
    "    dataset_path = f\"./dataset/val{problem_size}_dataset.npy\"\n",
    "    node_positions = np.load(dataset_path)\n",
    "    logging.info(f\"[*] Evaluating {dataset_path}\")\n",
    "    n_instances = node_positions.shape[0]\n",
    "    objs = []\n",
    "    for i, node_pos in enumerate(node_positions):\n",
    "        obj = solve(node_pos)\n",
    "        objs.append(obj)\n",
    "    # Average objective value for all instances\n",
    "    mean_obj = np.mean(objs, axis=0)\n",
    "    for i, obj in enumerate(mean_obj):\n",
    "        print(f\"[*] Average for {problem_size}, {N_ITERATIONS[i]} iterations: {obj}\")\n",
    "    print()"
   ]
  },
  {
   "cell_type": "code",
   "execution_count": null,
   "metadata": {},
   "outputs": [],
   "source": []
  }
 ],
 "metadata": {
  "kernelspec": {
   "display_name": "Python 3 (ipykernel)",
   "language": "python",
   "name": "python3"
  },
  "language_info": {
   "codemirror_mode": {
    "name": "ipython",
    "version": 3
   },
   "file_extension": ".py",
   "mimetype": "text/x-python",
   "name": "python",
   "nbconvert_exporter": "python",
   "pygments_lexer": "ipython3",
   "version": "3.9.0"
  },
  "toc": {
   "base_numbering": 1,
   "nav_menu": {},
   "number_sections": true,
   "sideBar": true,
   "skip_h1_title": false,
   "title_cell": "Table of Contents",
   "title_sidebar": "Contents",
   "toc_cell": false,
   "toc_position": {},
   "toc_section_display": true,
   "toc_window_display": false
  }
 },
 "nbformat": 4,
 "nbformat_minor": 2
}
